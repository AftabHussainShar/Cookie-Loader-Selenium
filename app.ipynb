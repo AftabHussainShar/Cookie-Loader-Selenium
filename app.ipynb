{
 "cells": [
  {
   "cell_type": "code",
   "execution_count": 1,
   "metadata": {},
   "outputs": [],
   "source": [
    "from selenium import webdriver\n",
    "import pickle\n",
    "import time \n",
    "driver = webdriver.Chrome()\n",
    "driver.get('https://www.linkedin.com/')"
   ]
  },
  {
   "cell_type": "code",
   "execution_count": 2,
   "metadata": {},
   "outputs": [],
   "source": [
    "cookies = driver.get_cookies()\n",
    "with open('cookies.pkl', 'wb') as f:\n",
    "    pickle.dump(cookies, f)"
   ]
  },
  {
   "cell_type": "code",
   "execution_count": 9,
   "metadata": {},
   "outputs": [],
   "source": [
    "import pickle\n",
    "from selenium import webdriver\n",
    "\n",
    "def load_cookies_from_file(file_path):\n",
    "    with open(file_path, 'rb') as f:\n",
    "        cookies = pickle.load(f)\n",
    "    return cookies\n",
    "\n",
    "def init_driver():\n",
    "    driver = webdriver.Chrome()\n",
    "    return driver\n",
    "\n",
    "def load_cookies(driver, cookies):\n",
    "    driver.get('https://www.linkedin.com') \n",
    "    for cookie in cookies:\n",
    "        driver.add_cookie(cookie)\n",
    "        \n",
    "def browse_with_cookies(cookie_file_path):\n",
    "    driver = init_driver()\n",
    "    cookies = load_cookies_from_file(cookie_file_path)\n",
    "    load_cookies(driver, cookies)\n",
    "    driver.get('https://www.linkedin.com/')  \n",
    "\n",
    "    # driver.quit()\n",
    "\n",
    "cookie_file_path = 'cookies.pkl'  \n",
    "browse_with_cookies(cookie_file_path)"
   ]
  }
 ],
 "metadata": {
  "kernelspec": {
   "display_name": "Python 3",
   "language": "python",
   "name": "python3"
  },
  "language_info": {
   "codemirror_mode": {
    "name": "ipython",
    "version": 3
   },
   "file_extension": ".py",
   "mimetype": "text/x-python",
   "name": "python",
   "nbconvert_exporter": "python",
   "pygments_lexer": "ipython3",
   "version": "3.12.1"
  }
 },
 "nbformat": 4,
 "nbformat_minor": 2
}
